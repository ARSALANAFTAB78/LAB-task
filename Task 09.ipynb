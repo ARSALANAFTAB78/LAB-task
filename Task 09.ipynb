{
 "cells": [
  {
   "cell_type": "code",
   "execution_count": 1,
   "id": "2c6a34bf-0248-422b-b407-cb180ee70e93",
   "metadata": {},
   "outputs": [],
   "source": [
    "import pandas as pd\n",
    "import numpy as np"
   ]
  },
  {
   "cell_type": "code",
   "execution_count": 3,
   "id": "6ac192ea-5d11-4cf9-8b25-7c43630bb776",
   "metadata": {},
   "outputs": [
    {
     "name": "stdout",
     "output_type": "stream",
     "text": [
      "     id   season match_no         date                team_1 team_1_score  \\\n",
      "0     0  2011/12    Final  Feb 29 2012       Barisal Burners        140/7   \n",
      "1    30  2011/12      3rd  Feb 11 2012  Khulna Royal Bengals        175/5   \n",
      "2    26  2011/12      7th  Feb 13 2012       Barisal Burners          125   \n",
      "3    29  2011/12      4th  Feb 11 2012       Barisal Burners        180/2   \n",
      "4    28  2011/12      5th  Feb 12 2012  Khulna Royal Bengals        171/3   \n",
      "..   ..      ...      ...          ...                   ...          ...   \n",
      "306   6  2011/12     27th  Feb 26 2012  Khulna Royal Bengals          106   \n",
      "307   5  2011/12     28th  Feb 26 2012      Chittagong Kings        150/9   \n",
      "308   4  2011/12     29th  Feb 27 2012      Dhaka Gladiators          116   \n",
      "309   2  2011/12      1st  Feb 28 2012      Duronto Rajshahi        184/6   \n",
      "310   1  2011/12      2nd  Feb 28 2012      Dhaka Gladiators        191/4   \n",
      "\n",
      "                   team_2 team_2_score player_of_match           toss_winner  \\\n",
      "0        Dhaka Gladiators        144/2     Imran Nazir      Dhaka Gladiators   \n",
      "1        Dhaka Gladiators        156/7   Andre Russell  Khulna Royal Bengals   \n",
      "2    Khulna Royal Bengals        131/3    Dwayne Smith  Khulna Royal Bengals   \n",
      "3        Duronto Rajshahi        158/9   Ahmed Shehzad       Barisal Burners   \n",
      "4        Chittagong Kings        174/4   Nasir Jamshed  Khulna Royal Bengals   \n",
      "..                    ...          ...             ...                   ...   \n",
      "306      Duronto Rajshahi        110/2     Sean Ervine  Khulna Royal Bengals   \n",
      "307       Barisal Burners        151/5      Brad Hodge       Barisal Burners   \n",
      "308      Duronto Rajshahi        120/7   Mohammad Sami      Dhaka Gladiators   \n",
      "309       Barisal Burners        189/2   Ahmed Shehzad       Barisal Burners   \n",
      "310  Khulna Royal Bengals        182/7   Azhar Mahmood      Dhaka Gladiators   \n",
      "\n",
      "    toss_decision      winner                                  venue    city  \\\n",
      "0     field first       Dhaka  Shere Bangla National Stadium, Mirpur  Mirpur   \n",
      "1       bat first      Khulna  Shere Bangla National Stadium, Mirpur  Mirpur   \n",
      "2     field first      Khulna  Shere Bangla National Stadium, Mirpur  Mirpur   \n",
      "3       bat first     Barisal  Shere Bangla National Stadium, Mirpur  Mirpur   \n",
      "4       bat first  Chittagong  Shere Bangla National Stadium, Mirpur  Mirpur   \n",
      "..            ...         ...                                    ...     ...   \n",
      "306     bat first    Rajshahi  Shere Bangla National Stadium, Mirpur  Mirpur   \n",
      "307   field first     Barisal  Shere Bangla National Stadium, Mirpur  Mirpur   \n",
      "308     bat first    Rajshahi  Shere Bangla National Stadium, Mirpur  Mirpur   \n",
      "309   field first     Barisal  Shere Bangla National Stadium, Mirpur  Mirpur   \n",
      "310     bat first       Dhaka  Shere Bangla National Stadium, Mirpur  Mirpur   \n",
      "\n",
      "     win_by_wickets  win_by_runs     result         umpire_1       umpire_2  \n",
      "0                 8            0  8 wickets    David Orchard   Enamul Haque  \n",
      "1                 0           19    19 runs    Jeremy Lloyds   Sharfuddoula  \n",
      "2                 7            0  7 wickets     Enamul Haque  Jeremy Lloyds  \n",
      "3                 0           22    22 runs    David Orchard     Gazi Sohel  \n",
      "4                 6            0  6 wickets    David Orchard   Enamul Haque  \n",
      "..              ...          ...        ...              ...            ...  \n",
      "306               8            0  8 wickets    David Orchard     Nadir Shah  \n",
      "307               5            0  5 wickets       Gazi Sohel  Jeremy Lloyds  \n",
      "308               3            0  3 wickets  Mahfuzur Rahman     Nadir Shah  \n",
      "309               8            0  8 wickets    David Orchard   Sharfuddoula  \n",
      "310               0            9     9 runs     Enamul Haque     Nadir Shah  \n",
      "\n",
      "[311 rows x 19 columns]\n"
     ]
    }
   ],
   "source": [
    "bpl = pd.read_csv(\"bpl.csv\")\n",
    "print(bpl)"
   ]
  },
  {
   "cell_type": "code",
   "execution_count": 5,
   "id": "bd6eaf29-52b3-4c7f-ae76-b5b6d72be046",
   "metadata": {},
   "outputs": [
    {
     "data": {
      "text/html": [
       "<div>\n",
       "<style scoped>\n",
       "    .dataframe tbody tr th:only-of-type {\n",
       "        vertical-align: middle;\n",
       "    }\n",
       "\n",
       "    .dataframe tbody tr th {\n",
       "        vertical-align: top;\n",
       "    }\n",
       "\n",
       "    .dataframe thead th {\n",
       "        text-align: right;\n",
       "    }\n",
       "</style>\n",
       "<table border=\"1\" class=\"dataframe\">\n",
       "  <thead>\n",
       "    <tr style=\"text-align: right;\">\n",
       "      <th></th>\n",
       "      <th>id</th>\n",
       "      <th>season</th>\n",
       "      <th>match_no</th>\n",
       "      <th>date</th>\n",
       "      <th>team_1</th>\n",
       "      <th>team_1_score</th>\n",
       "      <th>team_2</th>\n",
       "      <th>team_2_score</th>\n",
       "      <th>player_of_match</th>\n",
       "      <th>toss_winner</th>\n",
       "      <th>toss_decision</th>\n",
       "      <th>winner</th>\n",
       "      <th>venue</th>\n",
       "      <th>city</th>\n",
       "      <th>win_by_wickets</th>\n",
       "      <th>win_by_runs</th>\n",
       "      <th>result</th>\n",
       "      <th>umpire_1</th>\n",
       "      <th>umpire_2</th>\n",
       "    </tr>\n",
       "  </thead>\n",
       "  <tbody>\n",
       "    <tr>\n",
       "      <th>0</th>\n",
       "      <td>0</td>\n",
       "      <td>2011/12</td>\n",
       "      <td>Final</td>\n",
       "      <td>Feb 29 2012</td>\n",
       "      <td>Barisal Burners</td>\n",
       "      <td>140/7</td>\n",
       "      <td>Dhaka Gladiators</td>\n",
       "      <td>144/2</td>\n",
       "      <td>Imran Nazir</td>\n",
       "      <td>Dhaka Gladiators</td>\n",
       "      <td>field first</td>\n",
       "      <td>Dhaka</td>\n",
       "      <td>Shere Bangla National Stadium, Mirpur</td>\n",
       "      <td>Mirpur</td>\n",
       "      <td>8</td>\n",
       "      <td>0</td>\n",
       "      <td>8 wickets</td>\n",
       "      <td>David Orchard</td>\n",
       "      <td>Enamul Haque</td>\n",
       "    </tr>\n",
       "    <tr>\n",
       "      <th>1</th>\n",
       "      <td>30</td>\n",
       "      <td>2011/12</td>\n",
       "      <td>3rd</td>\n",
       "      <td>Feb 11 2012</td>\n",
       "      <td>Khulna Royal Bengals</td>\n",
       "      <td>175/5</td>\n",
       "      <td>Dhaka Gladiators</td>\n",
       "      <td>156/7</td>\n",
       "      <td>Andre Russell</td>\n",
       "      <td>Khulna Royal Bengals</td>\n",
       "      <td>bat first</td>\n",
       "      <td>Khulna</td>\n",
       "      <td>Shere Bangla National Stadium, Mirpur</td>\n",
       "      <td>Mirpur</td>\n",
       "      <td>0</td>\n",
       "      <td>19</td>\n",
       "      <td>19 runs</td>\n",
       "      <td>Jeremy Lloyds</td>\n",
       "      <td>Sharfuddoula</td>\n",
       "    </tr>\n",
       "  </tbody>\n",
       "</table>\n",
       "</div>"
      ],
      "text/plain": [
       "   id   season match_no         date                team_1 team_1_score  \\\n",
       "0   0  2011/12    Final  Feb 29 2012       Barisal Burners        140/7   \n",
       "1  30  2011/12      3rd  Feb 11 2012  Khulna Royal Bengals        175/5   \n",
       "\n",
       "             team_2 team_2_score player_of_match           toss_winner  \\\n",
       "0  Dhaka Gladiators        144/2     Imran Nazir      Dhaka Gladiators   \n",
       "1  Dhaka Gladiators        156/7   Andre Russell  Khulna Royal Bengals   \n",
       "\n",
       "  toss_decision  winner                                  venue    city  \\\n",
       "0   field first   Dhaka  Shere Bangla National Stadium, Mirpur  Mirpur   \n",
       "1     bat first  Khulna  Shere Bangla National Stadium, Mirpur  Mirpur   \n",
       "\n",
       "   win_by_wickets  win_by_runs     result       umpire_1      umpire_2  \n",
       "0               8            0  8 wickets  David Orchard  Enamul Haque  \n",
       "1               0           19    19 runs  Jeremy Lloyds  Sharfuddoula  "
      ]
     },
     "execution_count": 5,
     "metadata": {},
     "output_type": "execute_result"
    }
   ],
   "source": [
    "bpl.head(2)"
   ]
  },
  {
   "cell_type": "code",
   "execution_count": 7,
   "id": "e34c6c09-5e1b-4aad-be94-4a2a09dbcc46",
   "metadata": {},
   "outputs": [
    {
     "data": {
      "text/plain": [
       "(311, 19)"
      ]
     },
     "execution_count": 7,
     "metadata": {},
     "output_type": "execute_result"
    }
   ],
   "source": [
    "bpl.shape"
   ]
  },
  {
   "cell_type": "code",
   "execution_count": 9,
   "id": "c92fea24-c7e7-4845-a588-050ae6a5b20b",
   "metadata": {},
   "outputs": [
    {
     "data": {
      "text/plain": [
       "id                  int64\n",
       "season             object\n",
       "match_no           object\n",
       "date               object\n",
       "team_1             object\n",
       "team_1_score       object\n",
       "team_2             object\n",
       "team_2_score       object\n",
       "player_of_match    object\n",
       "toss_winner        object\n",
       "toss_decision      object\n",
       "winner             object\n",
       "venue              object\n",
       "city               object\n",
       "win_by_wickets      int64\n",
       "win_by_runs         int64\n",
       "result             object\n",
       "umpire_1           object\n",
       "umpire_2           object\n",
       "dtype: object"
      ]
     },
     "execution_count": 9,
     "metadata": {},
     "output_type": "execute_result"
    }
   ],
   "source": [
    "bpl.dtypes"
   ]
  },
  {
   "cell_type": "code",
   "execution_count": 11,
   "id": "2e19aa52-6628-4aab-9b00-b7535bf9ffc3",
   "metadata": {},
   "outputs": [
    {
     "data": {
      "text/html": [
       "<div>\n",
       "<style scoped>\n",
       "    .dataframe tbody tr th:only-of-type {\n",
       "        vertical-align: middle;\n",
       "    }\n",
       "\n",
       "    .dataframe tbody tr th {\n",
       "        vertical-align: top;\n",
       "    }\n",
       "\n",
       "    .dataframe thead th {\n",
       "        text-align: right;\n",
       "    }\n",
       "</style>\n",
       "<table border=\"1\" class=\"dataframe\">\n",
       "  <thead>\n",
       "    <tr style=\"text-align: right;\">\n",
       "      <th></th>\n",
       "      <th>id</th>\n",
       "      <th>win_by_wickets</th>\n",
       "      <th>win_by_runs</th>\n",
       "    </tr>\n",
       "  </thead>\n",
       "  <tbody>\n",
       "    <tr>\n",
       "      <th>count</th>\n",
       "      <td>311.000000</td>\n",
       "      <td>311.000000</td>\n",
       "      <td>311.000000</td>\n",
       "    </tr>\n",
       "    <tr>\n",
       "      <th>mean</th>\n",
       "      <td>284.755627</td>\n",
       "      <td>3.186495</td>\n",
       "      <td>15.627010</td>\n",
       "    </tr>\n",
       "    <tr>\n",
       "      <th>std</th>\n",
       "      <td>228.051532</td>\n",
       "      <td>3.449723</td>\n",
       "      <td>24.626548</td>\n",
       "    </tr>\n",
       "    <tr>\n",
       "      <th>min</th>\n",
       "      <td>0.000000</td>\n",
       "      <td>0.000000</td>\n",
       "      <td>0.000000</td>\n",
       "    </tr>\n",
       "    <tr>\n",
       "      <th>25%</th>\n",
       "      <td>57.500000</td>\n",
       "      <td>0.000000</td>\n",
       "      <td>0.000000</td>\n",
       "    </tr>\n",
       "    <tr>\n",
       "      <th>50%</th>\n",
       "      <td>230.000000</td>\n",
       "      <td>2.000000</td>\n",
       "      <td>0.000000</td>\n",
       "    </tr>\n",
       "    <tr>\n",
       "      <th>75%</th>\n",
       "      <td>513.500000</td>\n",
       "      <td>6.000000</td>\n",
       "      <td>23.000000</td>\n",
       "    </tr>\n",
       "    <tr>\n",
       "      <th>max</th>\n",
       "      <td>719.000000</td>\n",
       "      <td>10.000000</td>\n",
       "      <td>119.000000</td>\n",
       "    </tr>\n",
       "  </tbody>\n",
       "</table>\n",
       "</div>"
      ],
      "text/plain": [
       "               id  win_by_wickets  win_by_runs\n",
       "count  311.000000      311.000000   311.000000\n",
       "mean   284.755627        3.186495    15.627010\n",
       "std    228.051532        3.449723    24.626548\n",
       "min      0.000000        0.000000     0.000000\n",
       "25%     57.500000        0.000000     0.000000\n",
       "50%    230.000000        2.000000     0.000000\n",
       "75%    513.500000        6.000000    23.000000\n",
       "max    719.000000       10.000000   119.000000"
      ]
     },
     "execution_count": 11,
     "metadata": {},
     "output_type": "execute_result"
    }
   ],
   "source": [
    "bpl.describe()"
   ]
  },
  {
   "cell_type": "code",
   "execution_count": 13,
   "id": "ff44e067-964a-4134-a5c8-ca969b493ae5",
   "metadata": {},
   "outputs": [
    {
     "data": {
      "text/plain": [
       "id                 0\n",
       "season             0\n",
       "match_no           0\n",
       "date               0\n",
       "team_1             0\n",
       "team_1_score       0\n",
       "team_2             0\n",
       "team_2_score       0\n",
       "player_of_match    0\n",
       "toss_winner        0\n",
       "toss_decision      0\n",
       "winner             0\n",
       "venue              0\n",
       "city               0\n",
       "win_by_wickets     0\n",
       "win_by_runs        0\n",
       "result             0\n",
       "umpire_1           0\n",
       "umpire_2           0\n",
       "dtype: int64"
      ]
     },
     "execution_count": 13,
     "metadata": {},
     "output_type": "execute_result"
    }
   ],
   "source": [
    "bpl.isnull().sum()"
   ]
  },
  {
   "cell_type": "code",
   "execution_count": 15,
   "id": "3f788e84-be51-4057-9985-b455b6291d42",
   "metadata": {},
   "outputs": [
    {
     "data": {
      "text/plain": [
       "<bound method DataFrame.info of      id   season match_no         date                team_1 team_1_score  \\\n",
       "0     0  2011/12    Final  Feb 29 2012       Barisal Burners        140/7   \n",
       "1    30  2011/12      3rd  Feb 11 2012  Khulna Royal Bengals        175/5   \n",
       "2    26  2011/12      7th  Feb 13 2012       Barisal Burners          125   \n",
       "3    29  2011/12      4th  Feb 11 2012       Barisal Burners        180/2   \n",
       "4    28  2011/12      5th  Feb 12 2012  Khulna Royal Bengals        171/3   \n",
       "..   ..      ...      ...          ...                   ...          ...   \n",
       "306   6  2011/12     27th  Feb 26 2012  Khulna Royal Bengals          106   \n",
       "307   5  2011/12     28th  Feb 26 2012      Chittagong Kings        150/9   \n",
       "308   4  2011/12     29th  Feb 27 2012      Dhaka Gladiators          116   \n",
       "309   2  2011/12      1st  Feb 28 2012      Duronto Rajshahi        184/6   \n",
       "310   1  2011/12      2nd  Feb 28 2012      Dhaka Gladiators        191/4   \n",
       "\n",
       "                   team_2 team_2_score player_of_match           toss_winner  \\\n",
       "0        Dhaka Gladiators        144/2     Imran Nazir      Dhaka Gladiators   \n",
       "1        Dhaka Gladiators        156/7   Andre Russell  Khulna Royal Bengals   \n",
       "2    Khulna Royal Bengals        131/3    Dwayne Smith  Khulna Royal Bengals   \n",
       "3        Duronto Rajshahi        158/9   Ahmed Shehzad       Barisal Burners   \n",
       "4        Chittagong Kings        174/4   Nasir Jamshed  Khulna Royal Bengals   \n",
       "..                    ...          ...             ...                   ...   \n",
       "306      Duronto Rajshahi        110/2     Sean Ervine  Khulna Royal Bengals   \n",
       "307       Barisal Burners        151/5      Brad Hodge       Barisal Burners   \n",
       "308      Duronto Rajshahi        120/7   Mohammad Sami      Dhaka Gladiators   \n",
       "309       Barisal Burners        189/2   Ahmed Shehzad       Barisal Burners   \n",
       "310  Khulna Royal Bengals        182/7   Azhar Mahmood      Dhaka Gladiators   \n",
       "\n",
       "    toss_decision      winner                                  venue    city  \\\n",
       "0     field first       Dhaka  Shere Bangla National Stadium, Mirpur  Mirpur   \n",
       "1       bat first      Khulna  Shere Bangla National Stadium, Mirpur  Mirpur   \n",
       "2     field first      Khulna  Shere Bangla National Stadium, Mirpur  Mirpur   \n",
       "3       bat first     Barisal  Shere Bangla National Stadium, Mirpur  Mirpur   \n",
       "4       bat first  Chittagong  Shere Bangla National Stadium, Mirpur  Mirpur   \n",
       "..            ...         ...                                    ...     ...   \n",
       "306     bat first    Rajshahi  Shere Bangla National Stadium, Mirpur  Mirpur   \n",
       "307   field first     Barisal  Shere Bangla National Stadium, Mirpur  Mirpur   \n",
       "308     bat first    Rajshahi  Shere Bangla National Stadium, Mirpur  Mirpur   \n",
       "309   field first     Barisal  Shere Bangla National Stadium, Mirpur  Mirpur   \n",
       "310     bat first       Dhaka  Shere Bangla National Stadium, Mirpur  Mirpur   \n",
       "\n",
       "     win_by_wickets  win_by_runs     result         umpire_1       umpire_2  \n",
       "0                 8            0  8 wickets    David Orchard   Enamul Haque  \n",
       "1                 0           19    19 runs    Jeremy Lloyds   Sharfuddoula  \n",
       "2                 7            0  7 wickets     Enamul Haque  Jeremy Lloyds  \n",
       "3                 0           22    22 runs    David Orchard     Gazi Sohel  \n",
       "4                 6            0  6 wickets    David Orchard   Enamul Haque  \n",
       "..              ...          ...        ...              ...            ...  \n",
       "306               8            0  8 wickets    David Orchard     Nadir Shah  \n",
       "307               5            0  5 wickets       Gazi Sohel  Jeremy Lloyds  \n",
       "308               3            0  3 wickets  Mahfuzur Rahman     Nadir Shah  \n",
       "309               8            0  8 wickets    David Orchard   Sharfuddoula  \n",
       "310               0            9     9 runs     Enamul Haque     Nadir Shah  \n",
       "\n",
       "[311 rows x 19 columns]>"
      ]
     },
     "execution_count": 15,
     "metadata": {},
     "output_type": "execute_result"
    }
   ],
   "source": [
    "bpl.info"
   ]
  },
  {
   "cell_type": "code",
   "execution_count": 17,
   "id": "a31c6498-bf00-45e6-9649-45ec08678078",
   "metadata": {},
   "outputs": [
    {
     "data": {
      "text/plain": [
       "0"
      ]
     },
     "execution_count": 17,
     "metadata": {},
     "output_type": "execute_result"
    }
   ],
   "source": [
    "bpl.duplicated().sum()"
   ]
  },
  {
   "cell_type": "code",
   "execution_count": 19,
   "id": "647253f0-e89b-4654-b036-e65c96c65b96",
   "metadata": {},
   "outputs": [
    {
     "data": {
      "text/plain": [
       "<bound method DataFrame.corr of      id   season match_no         date                team_1 team_1_score  \\\n",
       "0     0  2011/12    Final  Feb 29 2012       Barisal Burners        140/7   \n",
       "1    30  2011/12      3rd  Feb 11 2012  Khulna Royal Bengals        175/5   \n",
       "2    26  2011/12      7th  Feb 13 2012       Barisal Burners          125   \n",
       "3    29  2011/12      4th  Feb 11 2012       Barisal Burners        180/2   \n",
       "4    28  2011/12      5th  Feb 12 2012  Khulna Royal Bengals        171/3   \n",
       "..   ..      ...      ...          ...                   ...          ...   \n",
       "306   6  2011/12     27th  Feb 26 2012  Khulna Royal Bengals          106   \n",
       "307   5  2011/12     28th  Feb 26 2012      Chittagong Kings        150/9   \n",
       "308   4  2011/12     29th  Feb 27 2012      Dhaka Gladiators          116   \n",
       "309   2  2011/12      1st  Feb 28 2012      Duronto Rajshahi        184/6   \n",
       "310   1  2011/12      2nd  Feb 28 2012      Dhaka Gladiators        191/4   \n",
       "\n",
       "                   team_2 team_2_score player_of_match           toss_winner  \\\n",
       "0        Dhaka Gladiators        144/2     Imran Nazir      Dhaka Gladiators   \n",
       "1        Dhaka Gladiators        156/7   Andre Russell  Khulna Royal Bengals   \n",
       "2    Khulna Royal Bengals        131/3    Dwayne Smith  Khulna Royal Bengals   \n",
       "3        Duronto Rajshahi        158/9   Ahmed Shehzad       Barisal Burners   \n",
       "4        Chittagong Kings        174/4   Nasir Jamshed  Khulna Royal Bengals   \n",
       "..                    ...          ...             ...                   ...   \n",
       "306      Duronto Rajshahi        110/2     Sean Ervine  Khulna Royal Bengals   \n",
       "307       Barisal Burners        151/5      Brad Hodge       Barisal Burners   \n",
       "308      Duronto Rajshahi        120/7   Mohammad Sami      Dhaka Gladiators   \n",
       "309       Barisal Burners        189/2   Ahmed Shehzad       Barisal Burners   \n",
       "310  Khulna Royal Bengals        182/7   Azhar Mahmood      Dhaka Gladiators   \n",
       "\n",
       "    toss_decision      winner                                  venue    city  \\\n",
       "0     field first       Dhaka  Shere Bangla National Stadium, Mirpur  Mirpur   \n",
       "1       bat first      Khulna  Shere Bangla National Stadium, Mirpur  Mirpur   \n",
       "2     field first      Khulna  Shere Bangla National Stadium, Mirpur  Mirpur   \n",
       "3       bat first     Barisal  Shere Bangla National Stadium, Mirpur  Mirpur   \n",
       "4       bat first  Chittagong  Shere Bangla National Stadium, Mirpur  Mirpur   \n",
       "..            ...         ...                                    ...     ...   \n",
       "306     bat first    Rajshahi  Shere Bangla National Stadium, Mirpur  Mirpur   \n",
       "307   field first     Barisal  Shere Bangla National Stadium, Mirpur  Mirpur   \n",
       "308     bat first    Rajshahi  Shere Bangla National Stadium, Mirpur  Mirpur   \n",
       "309   field first     Barisal  Shere Bangla National Stadium, Mirpur  Mirpur   \n",
       "310     bat first       Dhaka  Shere Bangla National Stadium, Mirpur  Mirpur   \n",
       "\n",
       "     win_by_wickets  win_by_runs     result         umpire_1       umpire_2  \n",
       "0                 8            0  8 wickets    David Orchard   Enamul Haque  \n",
       "1                 0           19    19 runs    Jeremy Lloyds   Sharfuddoula  \n",
       "2                 7            0  7 wickets     Enamul Haque  Jeremy Lloyds  \n",
       "3                 0           22    22 runs    David Orchard     Gazi Sohel  \n",
       "4                 6            0  6 wickets    David Orchard   Enamul Haque  \n",
       "..              ...          ...        ...              ...            ...  \n",
       "306               8            0  8 wickets    David Orchard     Nadir Shah  \n",
       "307               5            0  5 wickets       Gazi Sohel  Jeremy Lloyds  \n",
       "308               3            0  3 wickets  Mahfuzur Rahman     Nadir Shah  \n",
       "309               8            0  8 wickets    David Orchard   Sharfuddoula  \n",
       "310               0            9     9 runs     Enamul Haque     Nadir Shah  \n",
       "\n",
       "[311 rows x 19 columns]>"
      ]
     },
     "execution_count": 19,
     "metadata": {},
     "output_type": "execute_result"
    }
   ],
   "source": [
    "bpl.corr"
   ]
  },
  {
   "cell_type": "code",
   "execution_count": null,
   "id": "99c00bc2-6838-4f18-a1c8-70a53e458fb9",
   "metadata": {},
   "outputs": [],
   "source": []
  }
 ],
 "metadata": {
  "kernelspec": {
   "display_name": "Python [conda env:base] *",
   "language": "python",
   "name": "conda-base-py"
  },
  "language_info": {
   "codemirror_mode": {
    "name": "ipython",
    "version": 3
   },
   "file_extension": ".py",
   "mimetype": "text/x-python",
   "name": "python",
   "nbconvert_exporter": "python",
   "pygments_lexer": "ipython3",
   "version": "3.12.7"
  }
 },
 "nbformat": 4,
 "nbformat_minor": 5
}
